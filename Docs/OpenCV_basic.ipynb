{
 "cells": [
  {
   "cell_type": "markdown",
   "metadata": {},
   "source": [
    "# Installing OpenCV\n",
    "\n",
    "Install the openCV package and additional base libraries \n",
    "\n",
    "```\n",
    "pip install opencv-contrib-python caer\n",
    "```"
   ]
  },
  {
   "cell_type": "code",
   "execution_count": null,
   "metadata": {},
   "outputs": [],
   "source": []
  },
  {
   "cell_type": "code",
   "execution_count": null,
   "metadata": {},
   "outputs": [],
   "source": []
  },
  {
   "cell_type": "markdown",
   "metadata": {},
   "source": [
    "# Reading Images and Videos"
   ]
  },
  {
   "cell_type": "code",
   "execution_count": 1,
   "metadata": {},
   "outputs": [],
   "source": [
    "# importing openCV lib\n",
    "import cv2 as cv"
   ]
  },
  {
   "cell_type": "markdown",
   "metadata": {},
   "source": [
    "## reading image"
   ]
  },
  {
   "cell_type": "code",
   "execution_count": 6,
   "metadata": {},
   "outputs": [],
   "source": [
    "def image_read(path):\n",
    "    img = cv.imread(path) #reads image file as matrix\n",
    "    try:\n",
    "        cv.imshow(image_name, img) # shows image (args: window name, img_matrix)\n",
    "        cv.waitKey(0)  # waits indefinitely \n",
    "    except:\n",
    "        print(\"Read error\")"
   ]
  },
  {
   "cell_type": "code",
   "execution_count": 8,
   "metadata": {},
   "outputs": [],
   "source": [
    "image_name = input('Enter file name from \"img\" folder... ')\n",
    "image_read(path=f'img/{image_name}')"
   ]
  },
  {
   "cell_type": "markdown",
   "metadata": {},
   "source": [
    "Sometimes the images are too big that it can't fit the monitor window. OpenCV does not have a native way to deal with this problem. However, there are ways to resize an image to mitigate this issue. "
   ]
  },
  {
   "cell_type": "markdown",
   "metadata": {},
   "source": [
    "## Reading Videos\n",
    "The `VideoCapture()` function takes two types of arguments as input. \n",
    "1. An __Int__ arg if you'd you use your camera as a source \n",
    "2. A __Str__ if the source is a file. "
   ]
  },
  {
   "cell_type": "code",
   "execution_count": 9,
   "metadata": {},
   "outputs": [],
   "source": [
    "def video_read(path):\n",
    "    vdo = cv.VideoCapture(path)  \n",
    "\n",
    "    while True:\n",
    "        isTrue, frame = vdo.read()  # reads the file frame by frame. the read status is the isTrue flag\n",
    "        try:\n",
    "            cv.imshow(vdo_name, frame)\n",
    "\n",
    "            #stopping from indefinite play\n",
    "            if cv.waitKey(20) & 0xFF == ord('d'):\n",
    "                break\n",
    "        except KeyboardInterrupt:\n",
    "            print(\"Ctrl + C detected...\")\n",
    "            break\n",
    "        except:\n",
    "            break\n",
    "\n",
    "    vdo.release()          # releasing the capture pointer \n",
    "    cv.destroyAllWindows() # garbage collection "
   ]
  },
  {
   "cell_type": "code",
   "execution_count": 10,
   "metadata": {},
   "outputs": [],
   "source": [
    "vdo_name = input('Enter file name from \"vdo\" folder... ')\n",
    "video_read(path = f'vdo\\{vdo_name}')"
   ]
  },
  {
   "cell_type": "markdown",
   "metadata": {},
   "source": [
    "# Rescaling images and videos.\n",
    "\n",
    "The Resize and Rescale methods helps to reduce computational load while rendering an image or video. "
   ]
  },
  {
   "cell_type": "code",
   "execution_count": 4,
   "metadata": {},
   "outputs": [],
   "source": [
    "#define a rescale function\n",
    "\n",
    "def rescaleFrame(frame, scale):\n",
    "    height = int( frame.shape[0] * scale )   # scaling height and weight \n",
    "    width  = int( frame.shape[1] * scale )\n",
    "    dim = (height, width)                    # wrapping into a tuple\n",
    "    return cv.resize( frame, dim, interpolation=cv.INTER_AREA )  # resized frame "
   ]
  },
  {
   "cell_type": "markdown",
   "metadata": {},
   "source": [
    "Lets now modify the image and video read functions to allow resize. the arguments are as follows.\n",
    "* __path__ : image or video path (STR)\n",
    "* __scale__ : scalling factor (FLOAT)\n",
    "* __side_by_side__ : if True both version will be shown, if False just the rescaled one. (BOOL)"
   ]
  },
  {
   "cell_type": "markdown",
   "metadata": {},
   "source": [
    "## image read with resize "
   ]
  },
  {
   "cell_type": "code",
   "execution_count": 5,
   "metadata": {},
   "outputs": [],
   "source": [
    "def image_read_rescale(path, scale = 1, side_by_side = False):\n",
    "    img = cv.imread(path) #reads image file as matrix\n",
    "    img_scalled = rescaleFrame(img, scale=scale) #scaling\n",
    "    \n",
    "    try:\n",
    "        if side_by_side:\n",
    "            cv.imshow(image_name, img) # shows image (args: window name, img_matrix)\n",
    "        cv.imshow(f'{image_name}(resized x{scale})', img_scalled)\n",
    "        \n",
    "        cv.waitKey(0)  # waits indefinitely \n",
    "    except:\n",
    "        print(\"Read error\")"
   ]
  },
  {
   "cell_type": "code",
   "execution_count": 6,
   "metadata": {},
   "outputs": [],
   "source": [
    "image_name = input('Enter file name from \"img\" folder... ')\n",
    "image_read_rescale(path=f'img/{image_name}', scale=0.5, side_by_side=True)"
   ]
  },
  {
   "cell_type": "markdown",
   "metadata": {},
   "source": [
    "## Video read with resize"
   ]
  },
  {
   "cell_type": "code",
   "execution_count": 10,
   "metadata": {},
   "outputs": [],
   "source": [
    "def video_read_rescale(path, scale, side_by_side):\n",
    "    vdo = cv.VideoCapture(path)  \n",
    "\n",
    "    while True: \n",
    "        isTrue, frame = vdo.read()  # reads the file frame by frame. the read status is the isTrue flag\n",
    "        try:\n",
    "            frame_scalled = rescaleFrame(frame, scale=scale)\n",
    "            if side_by_side:\n",
    "                cv.imshow(vdo_name, frame)\n",
    "            cv.imshow(f'{vdo_name} (Rescaled x{scale})', frame_scalled)\n",
    "            \n",
    "            #stopping from indefinite play\n",
    "            if cv.waitKey(20) & 0xFF == ord('d'):\n",
    "                break\n",
    "            if not isTrue:    # to prevent a read error \n",
    "                break\n",
    "        except:\n",
    "            break\n",
    "\n",
    "    vdo.release()          # releasing the capture pointer \n",
    "    cv.destroyAllWindows() # garbage collection "
   ]
  },
  {
   "cell_type": "code",
   "execution_count": 11,
   "metadata": {},
   "outputs": [],
   "source": [
    "vdo_name = input('Enter file name from \"vdo\" folder... ')\n",
    "video_read_rescale(path = f'vdo\\{vdo_name}', scale=0.75, side_by_side=True)"
   ]
  },
  {
   "cell_type": "markdown",
   "metadata": {},
   "source": [
    "## Reading Live feed \n",
    "\n"
   ]
  },
  {
   "cell_type": "code",
   "execution_count": 1,
   "metadata": {},
   "outputs": [],
   "source": [
    "def video_read_rescale_live(path, scale, side_by_side, live, res=None):\n",
    "    '''\n",
    "        path    : file path (str) for non-live and cam_id (int) for live feed\n",
    "        scale   : scaler (float)\n",
    "        side_by_side    : (bool) playing both original and scaled \n",
    "        live    : (bool) is live\n",
    "        res     : (h,w) a tuple defining the live capture resolution (only for live)\n",
    "    '''\n",
    "    if live:\n",
    "        print('Feed set to live')\n",
    "        path = int(path)\n",
    "    \n",
    "    vdo = cv.VideoCapture(path)  \n",
    "\n",
    "    if live and (res is not None):\n",
    "        print(f'Resolution set to {res[0]}X{res[1]}')\n",
    "        vdo.set(3,res[1])  # width\n",
    "        vdo.set(4,res[0])  # height\n",
    "\n",
    "    print('feeding...') \n",
    "    while True: \n",
    "        isTrue, frame = vdo.read()  # reads the file frame by frame. the read status is the isTrue flag\n",
    "        try:\n",
    "            frame_scalled = rescaleFrame(frame, scale=scale)\n",
    "            if side_by_side:\n",
    "                cv.imshow(vdo_name, frame)\n",
    "            cv.imshow(f'{vdo_name} (Rescaled x{scale})', frame_scalled)\n",
    "            \n",
    "            #stopping from indefinite play\n",
    "            if cv.waitKey(20) & 0xFF == ord('d'):\n",
    "                break\n",
    "            if not isTrue:    # to prevent a read error \n",
    "                break\n",
    "        except:\n",
    "            break\n",
    "\n",
    "    vdo.release()          # releasing the capture pointer \n",
    "    cv.destroyAllWindows() # garbage collection "
   ]
  },
  {
   "cell_type": "code",
   "execution_count": 6,
   "metadata": {},
   "outputs": [
    {
     "name": "stdout",
     "output_type": "stream",
     "text": [
      "Feed set to live\n",
      "Resolution set to 800X600\n",
      "feeding...\n"
     ]
    }
   ],
   "source": [
    "vdo_name = input('Enter file name from \"vdo\" folder... ')\n",
    "video_read_rescale_live( path = vdo_name, \n",
    "                    scale=0.75, \n",
    "                    side_by_side=True, \n",
    "                    live=True,\n",
    "                    res = (800,600))"
   ]
  },
  {
   "cell_type": "markdown",
   "metadata": {},
   "source": [
    "# Draw Shape and write in an Image"
   ]
  },
  {
   "cell_type": "markdown",
   "metadata": {},
   "source": [
    "## drawing on a blank image"
   ]
  },
  {
   "cell_type": "code",
   "execution_count": 3,
   "metadata": {},
   "outputs": [],
   "source": [
    "import numpy as np"
   ]
  },
  {
   "cell_type": "code",
   "execution_count": 19,
   "metadata": {},
   "outputs": [
    {
     "name": "stdout",
     "output_type": "stream",
     "text": [
      "Operations...\n",
      "\t [1] Fill color in (r,g,b) format\n",
      "\t [2] Fill a portion\n",
      "\t [3] draw rectangle\n",
      "\t [4] draw a circle\n"
     ]
    },
    {
     "data": {
      "text/plain": [
       "-1"
      ]
     },
     "execution_count": 19,
     "metadata": {},
     "output_type": "execute_result"
    }
   ],
   "source": [
    "h,w = map(int, input('Enter res (w h): ').split())\n",
    "blank_img = np.zeros(shape=(w,h, 3 ), dtype='uint8')    # create a blank image of size (w,h) with 3 col channels\n",
    "\n",
    "print(\"Operations...\")\n",
    "print(\"\\t [1] Fill color in (r,g,b) format\")\n",
    "print(\"\\t [2] Fill a portion\")\n",
    "print(\"\\t [3] draw rectangle\")\n",
    "print(\"\\t [4] draw a circle\")\n",
    "choice = int(input(\"enter your choice... \"))\n",
    "\n",
    "# fill \n",
    "if choice == 1:\n",
    "    r,g,b = map(int, input('Enter color code').split())\n",
    "    blank_img[ : ] = r,g,b\n",
    "\n",
    "# subfill\n",
    "elif choice == 2:\n",
    "    r,g,b = input('Enter color code').split()\n",
    "    w1,w2,h1,h2 = map(int, input(\"Enter section (w1 w2 h1 h2)\").split())\n",
    "    blank_img[w1:w2 , h1:h2] = int(r),int(g),int(b)\n",
    "\n",
    "# rectangle\n",
    "elif choice == 3:\n",
    "    r,g,b = map(int, input('Enter color code of the rectangle').split())\n",
    "    w1,w2,h1,h2 = map(int, input(\"Enter section (w1 w2 h1 h2)\").split())\n",
    "    thk = int(input('Enter thickness... ')) # use thk = -1 to fill the reactangle \n",
    "\n",
    "    cv.rectangle(   img=blank_img, \n",
    "                pt1=(w1,h1), \n",
    "                    pt2=(w2,h2), \n",
    "                    color=(r,g,b), \n",
    "                    thickness=thk\n",
    "                )\n",
    "\n",
    "# Circle\n",
    "elif choice == 4:\n",
    "    r,g,b = map(int, input('Enter color code of the rectangle').split())\n",
    "    cx,cy,r = map(int, input(\"Enter section (center_x, center_y, radius)\").split())\n",
    "    thk = int(input('Enter thickness... ')) # use thk = -1 to fill the reactangle \n",
    "\n",
    "    cv.circle(  img=blank_img,\n",
    "                center=(cx,cy), \n",
    "                radius=r,\n",
    "                color=(r,g,b), \n",
    "                thickness=thk\n",
    "            )\n",
    "else:\n",
    "    print('wrong choice')\n",
    "\n",
    "\n",
    "cv.imshow(f'Blank [{w}x{h}]', blank_img)                           # show the blank image \n",
    "cv.waitKey(0)"
   ]
  },
  {
   "cell_type": "code",
   "execution_count": 2,
   "metadata": {},
   "outputs": [
    {
     "data": {
      "text/plain": [
       "-1"
      ]
     },
     "execution_count": 2,
     "metadata": {},
     "output_type": "execute_result"
    }
   ],
   "source": [
    "file_name  = input('Enter image name... ')\n",
    "img = cv.imread(f'img/{file_name}')\n",
    "cv.imshow(file_name, img)\n",
    "cv.waitKey(0)"
   ]
  },
  {
   "cell_type": "code",
   "execution_count": null,
   "metadata": {},
   "outputs": [],
   "source": []
  }
 ],
 "metadata": {
  "interpreter": {
   "hash": "300305426b8cb3ca6f15e572a76596192c47147083a1e3c8e026675e1fd537d9"
  },
  "kernelspec": {
   "display_name": "Python 3.9.7 64-bit ('venv': venv)",
   "name": "python3"
  },
  "language_info": {
   "codemirror_mode": {
    "name": "ipython",
    "version": 3
   },
   "file_extension": ".py",
   "mimetype": "text/x-python",
   "name": "python",
   "nbconvert_exporter": "python",
   "pygments_lexer": "ipython3",
   "version": "3.9.7"
  },
  "orig_nbformat": 4
 },
 "nbformat": 4,
 "nbformat_minor": 2
}
